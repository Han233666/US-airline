{
 "cells": [
  {
   "cell_type": "markdown",
   "metadata": {},
   "source": [
    "# Project Proposal\n",
    "\n",
    "Student Name: __Han Yin___\n",
    "\n",
    "\n",
    "Group Members: __KeYu Wu__,__ZiYue Guo__ (up to 2 others) \n",
    "\n",
    "**If you are working in a group, you should EACH submit a copy of your proposal.  The copies may be identical.**"
   ]
  },
  {
   "cell_type": "markdown",
   "metadata": {},
   "source": [
    "Please provide a link to the data set you wish to analyze."
   ]
  },
  {
   "cell_type": "code",
   "execution_count": 2,
   "metadata": {},
   "outputs": [],
   "source": [
    "# Link here and read into Python, or just an html link as markdown.\n",
    "https://www.kaggle.com/usdot/flight-delays/"
   ]
  },
  {
   "cell_type": "markdown",
   "metadata": {},
   "source": [
    "### Proposal:\n",
    "\n",
    "Please write an overview of your plan.  A broad outline might be:\n",
    "\n",
    "    - One paragraph setting up the question of interest\n",
    "    - One paragraph description of the data set\n",
    "    - One paragraph describing the methods you intend to use and clearly stating your hypothesis\n",
    "    \n",
    "Once complete, save this notebook **as a pdf** and upload to the relevant Canvas assignment.\n",
    "\n",
    "Your writing must be in complete sentences, and you will be evaluated for quality and clarity of exposition.\n",
    "\n",
    "\n",
    "If the scope of the project is not beyond what you could do coming out of CSCI 3022, then the proposal will receive a 0/10 and it is the student(s)’s responsibility to produce a project for the Preliminary Analysis that is of sufficient complexity.  Easy litmus test: are you using at least one method from CSCI 4022?\n",
    "\n"
   ]
  },
  {
   "cell_type": "markdown",
   "metadata": {},
   "source": [
    "1. In this project, we are going to do data mining about the United states’ flight information. By exploring the flight information we can solve many doubts about the American airports. For instance, what are the most important airport in America? How to rank American airport? What are the best route between two locations? Besides, we also expect to visualize the United states airline network in various ways. Furthermore, since the dataset is about the flight delay, it is meaningful to explore the factors that influence the flight delay, there are many potential answers such as the flight distance, the influx and outflux of the airport. Being familiar with the reasons that cause flight delay helps customers to avoid  such awkward situation. \n",
    "2. The U.S. Department of Transportation's (DOT) Bureau of Transportation Statistics tracks the on-time performance of domestic flights operated by large air carriers. Summary information on the number of on-time, delayed, canceled, and diverted flights is published in DOT's monthly Air Travel Consumer Report and in this dataset of 2015 flight delays and cancellations.  We will mainly focus on the destination and source airport for the page (airport) rank. \n",
    "3. For this project we would use Page Rank as our primary method. We would use 322 airports listed in airports.csv as nodes and 5,819,079 fights as links to perform Page Rank in order to get the vector of importance for each airport. We could also use the longitude and latitude information for each airport to generate a 2 dimensional map of airports. We would include a mathematical algorithm to find distances between airports. Then, we would use Linear Regression to find relationship between each of the following data pairs: Airport importance and Flight delay rate, Distance between airports and Flight delay rate, Airline company and Flight delay rate. Based on my knowledge before any statistical implementation, I would expect airports with more transfer connection flights like LA International Airport, San Francisco International Airport, Denver International Airport, would have larger importance value. Airport importance would have a positive relation with Flight delay rate, Distance between airports would also have a positive relation with Flight delay rate, Airline company with higher ratings such as Delta would have a lower Flight delay rate and Airline company with lower ratings such as United Airline would have a higher Flight delay rate."
   ]
  },
  {
   "cell_type": "code",
   "execution_count": null,
   "metadata": {},
   "outputs": [],
   "source": []
  }
 ],
 "metadata": {
  "kernelspec": {
   "display_name": "Python 3",
   "language": "python",
   "name": "python3"
  },
  "language_info": {
   "codemirror_mode": {
    "name": "ipython",
    "version": 3
   },
   "file_extension": ".py",
   "mimetype": "text/x-python",
   "name": "python",
   "nbconvert_exporter": "python",
   "pygments_lexer": "ipython3",
   "version": "3.7.1"
  }
 },
 "nbformat": 4,
 "nbformat_minor": 2
}
