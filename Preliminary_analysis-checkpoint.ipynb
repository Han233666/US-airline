{
 "cells": [
  {
   "cell_type": "markdown",
   "metadata": {},
   "source": [
    "#### The U.S. Department of Transportation's (DOT) Bureau of Transportation Statistics tracks the on-time performance of domestic flights operated by large air carriers. Summary information on the number of on-time, delayed, canceled, and diverted flights is published in DOT's monthly Air Travel Consumer Report and in this dataset of 2015 flight delays and cancellations. We will mainly focus on the destination and source airport for the page (airport) rank. \n",
    "\n",
    "#### In this project, we are going to do data mining about the United states’ flight information. By exploring the flight information we can solve many doubts about the American airports. For instance, what are the most important airport in America? How to rank American airport? What are the best route between two locations? Besides, we also expect to visualize the United states airline network in various ways. Furthermore, since the dataset is about the flight delay, it is meaningful to explore the factors that influence the flight delay, there are many potential answers such as the flight distance, the influx and outflux of the airport. Being familiar with the reasons that cause flight delay helps customers to avoid such awkward situation. \n",
    "\n",
    "#### For this project we would use Page Rank as our primary method. We would use 322 airports listed in airports.csv as nodes and 5,819,079 fights as links to perform Page Rank in order to get the vector of importance for each airport. We could also use the longitude and latitude information for each airport to generate a 2 dimensional map of airports. We would include a mathematical algorithm to find distances between airports. Then, we would use Linear Regression to find relationship between each of the following data pairs: Airport importance and Flight delay rate, Distance between airports and Flight delay rate, Airline company and Flight delay rate. Based on my knowledge before any statistical implementation, I would expect airports with more transfer connection flights like LA International Airport, San Francisco International Airport, Denver International Airport, would have larger importance value. Airport importance would have a positive relation with Flight delay rate, Distance between airports would also have a positive relation with Flight delay rate, Airline company with higher ratings such as Delta would have a lower Flight delay rate and Airline company with lower ratings such as United Airline would have a higher Flight delay rate.\n",
    "\n"
   ]
  },
  {
   "cell_type": "markdown",
   "metadata": {},
   "source": [
    "### Method used so far: PageRank"
   ]
  },
  {
   "cell_type": "code",
   "execution_count": 71,
   "metadata": {},
   "outputs": [],
   "source": [
    "import pandas as pd\n",
    "import matplotlib.pyplot as plt\n",
    "import numpy as np\n",
    "%matplotlib inline"
   ]
  },
  {
   "cell_type": "markdown",
   "metadata": {},
   "source": [
    "#### Read the file, get the arilines' name, airports and flights information from the csv file."
   ]
  },
  {
   "cell_type": "code",
   "execution_count": 2,
   "metadata": {},
   "outputs": [
    {
     "name": "stderr",
     "output_type": "stream",
     "text": [
      "/Users/ziyueguo/opt/anaconda3/lib/python3.7/site-packages/IPython/core/interactiveshell.py:3058: DtypeWarning: Columns (7,8) have mixed types. Specify dtype option on import or set low_memory=False.\n",
      "  interactivity=interactivity, compiler=compiler, result=result)\n"
     ]
    }
   ],
   "source": [
    "df_airlines = pd.read_csv('airlines.csv')\n",
    "df_airports = pd.read_csv('airports.csv')\n",
    "df = pd.read_csv('flights.csv')"
   ]
  },
  {
   "cell_type": "markdown",
   "metadata": {},
   "source": [
    "#### Show the number of the flights "
   ]
  },
  {
   "cell_type": "code",
   "execution_count": 3,
   "metadata": {},
   "outputs": [
    {
     "name": "stdout",
     "output_type": "stream",
     "text": [
      "5819079\n"
     ]
    }
   ],
   "source": [
    "print( len(df) )"
   ]
  },
  {
   "cell_type": "markdown",
   "metadata": {},
   "source": [
    "#### Store the original Airports as the keys of the dictionary, store the number of flights of each original airport as the key value \n",
    "#### Store the  Airporst destinations as the keys of the dictionary, store the number of flights that fly to this destination as the key value "
   ]
  },
  {
   "cell_type": "code",
   "execution_count": 4,
   "metadata": {},
   "outputs": [],
   "source": [
    "ori = df['ORIGIN_AIRPORT'].value_counts().to_dict()\n",
    "des = df['DESTINATION_AIRPORT'].value_counts().to_dict()"
   ]
  },
  {
   "cell_type": "markdown",
   "metadata": {},
   "source": [
    "#### After store the orignal airport dictionary and the destination airport dictionary, when we print the data we find the useless airports named by numbers, these airport maybe the minitary airport, but they are useless for us. Therefore the step below is to delete the meanless data from our dictionary."
   ]
  },
  {
   "cell_type": "markdown",
   "metadata": {},
   "source": [
    "#### Delete the meaningless data from destination airport "
   ]
  },
  {
   "cell_type": "code",
   "execution_count": 5,
   "metadata": {},
   "outputs": [],
   "source": [
    "airports = df_airports['IATA_CODE'].to_list()\n",
    "\n",
    "data = []\n",
    "for i in range(len(airports)):\n",
    "    df_new = df[df['DESTINATION_AIRPORT'] == airports[i]]\n",
    "    data.append(df_new)"
   ]
  },
  {
   "cell_type": "code",
   "execution_count": 6,
   "metadata": {},
   "outputs": [],
   "source": [
    "result = pd.concat(data)"
   ]
  },
  {
   "cell_type": "markdown",
   "metadata": {},
   "source": [
    "#### Delete the meaningless data from original airport "
   ]
  },
  {
   "cell_type": "code",
   "execution_count": 7,
   "metadata": {},
   "outputs": [],
   "source": [
    "data = []\n",
    "for i in range(len(airports)):\n",
    "    df_new = result[result['ORIGIN_AIRPORT'] == airports[i]]\n",
    "    data.append(df_new)"
   ]
  },
  {
   "cell_type": "code",
   "execution_count": 8,
   "metadata": {},
   "outputs": [],
   "source": [
    "final = pd.concat(data)"
   ]
  },
  {
   "cell_type": "markdown",
   "metadata": {},
   "source": [
    "#### compare the numbers of flight before and after deleting the meaningless data"
   ]
  },
  {
   "cell_type": "code",
   "execution_count": 9,
   "metadata": {},
   "outputs": [
    {
     "name": "stdout",
     "output_type": "stream",
     "text": [
      "5819079\n",
      "5332914\n",
      "5332914\n"
     ]
    }
   ],
   "source": [
    "print (len(df))\n",
    "print (len(result))\n",
    "print (len(final))"
   ]
  },
  {
   "cell_type": "markdown",
   "metadata": {},
   "source": [
    "#### Get the new dictionary"
   ]
  },
  {
   "cell_type": "code",
   "execution_count": 10,
   "metadata": {},
   "outputs": [],
   "source": [
    "ori = final['ORIGIN_AIRPORT'].value_counts().to_dict()\n",
    "des = final['DESTINATION_AIRPORT'].value_counts().to_dict()"
   ]
  },
  {
   "cell_type": "markdown",
   "metadata": {},
   "source": [
    "### PageRank\n",
    "#### Establish the adjacent matrix of airports "
   ]
  },
  {
   "cell_type": "code",
   "execution_count": 73,
   "metadata": {},
   "outputs": [],
   "source": [
    "m = np.zeros([len(airports), len(airports)])\n",
    "\n",
    "num = len(airports)\n",
    "for i in range(num):\n",
    "    for j in range(num):\n",
    "        o = airports[i]\n",
    "        d = airports[j]\n",
    "        df_ori = data[i]\n",
    "        m[i][j] = len(df_ori[df_ori['DESTINATION_AIRPORT'] == d]) / ori[o]"
   ]
  },
  {
   "cell_type": "code",
   "execution_count": 115,
   "metadata": {},
   "outputs": [],
   "source": [
    "r = np.ones(num) / num\n",
    "#r = r.reshape(-1,1)\n",
    "#r0 = r * 0\n",
    "r0 = np.zeros(num)\n",
    "\n",
    "m = m.transpose()\n",
    "\n",
    "def dist(x1, x2):\n",
    "    return np.sqrt(np.sum((np.array(x1)-np.array(x2))**2))\n",
    "\n",
    "#print (dist(r0, r))\n",
    "\n",
    "#k = 0\n",
    "#while k < 8:\n",
    "while not np.all(r0 == r):\n",
    "    r0 = r\n",
    "    r = np.dot(m, r)\n",
    "#    k += 1\n",
    "#    print (r[20])\n",
    "    \n",
    "#print (r)"
   ]
  },
  {
   "cell_type": "code",
   "execution_count": 118,
   "metadata": {},
   "outputs": [
    {
     "name": "stdout",
     "output_type": "stream",
     "text": [
      "ABE 0.00042671823823797603\n",
      "ADQ 8.623522399571269e-05\n",
      "ATL 0.06505389719364019\n",
      "BGR 6.894835407011934e-05\n",
      "BPT 0.00018246943142370028\n",
      "BUR 0.0035419621191846986\n",
      "CHS 0.002216500971222635\n"
     ]
    }
   ],
   "source": [
    "print (airports[0],r[0])\n",
    "print (airports[10],r[10])\n",
    "print (airports[20],r[20])\n",
    "print (airports[30],r[30])\n",
    "print (airports[40],r[40])\n",
    "print (airports[50],r[50])\n",
    "print (airports[60],r[60])"
   ]
  },
  {
   "cell_type": "markdown",
   "metadata": {},
   "source": [
    "#### Compare the origin density, destination density, and pageRank of airports"
   ]
  },
  {
   "cell_type": "code",
   "execution_count": 121,
   "metadata": {},
   "outputs": [
    {
     "name": "stdout",
     "output_type": "stream",
     "text": [
      "     Ori_Density Des_Density PageRank\n",
      "ATL  0.065036864 0.065049615 0.065053897\n",
      "ORD  0.053607465 0.053611590 0.053612750\n",
      "DFW  0.044919344 0.044925157 0.044923674\n",
      "DEN  0.036763203 0.036754765 0.036753724\n",
      "LAX  0.036504058 0.036508370 0.036506243\n",
      "SFO  0.027753682 0.027745807 0.027744547\n",
      "PHX  0.027529977 0.027529415 0.027528862\n",
      "IAH  0.027493787 0.027505225 0.027505282\n",
      "LAS  0.024973401 0.024976589 0.024975433\n",
      "MSP  0.021023590 0.021025653 0.021025704\n",
      "MCO  0.020810761 0.020810386 0.020810701\n",
      "SEA  0.020795198 0.020796698 0.020796021\n"
     ]
    }
   ],
   "source": [
    "j = len(airports) -1\n",
    "r_sorted = np.sort(r)\n",
    "print ('     Ori_Density Des_Density PageRank')\n",
    "for i in ori.keys():\n",
    "    print ('{:4s} {:9.9f} {:9.9f} {:9.9f}'.format(i, ori[i]/len(final), des[i]/len(final), r_sorted[j]))\n",
    "    j = j-1\n",
    "    if j < 310:\n",
    "        break"
   ]
  },
  {
   "cell_type": "markdown",
   "metadata": {},
   "source": [
    "#### Visualize the pageRank of airports according to the coordinates of airports"
   ]
  },
  {
   "cell_type": "code",
   "execution_count": 79,
   "metadata": {},
   "outputs": [
    {
     "data": {
      "text/plain": [
       "Text(0, 0.5, 'latitude')"
      ]
     },
     "execution_count": 79,
     "metadata": {},
     "output_type": "execute_result"
    },
    {
     "data": {
      "image/png": "[encoded data removed]",
      "text/plain": [
       "<Figure size 432x288 with 1 Axes>"
      ]
     },
     "metadata": {
      "needs_background": "light"
     },
     "output_type": "display_data"
    }
   ],
   "source": [
    "lat = df_airports['LATITUDE'].to_numpy()\n",
    "lon = df_airports['LONGITUDE'].to_numpy()\n",
    "size = []\n",
    "for i in range(num):\n",
    "    size.append((ori[airports[i]] / len(final))**0.6 * 100)\n",
    "\n",
    "plt.scatter(lon, lat, s = size, c = size)\n",
    "plt.xlabel('longitude')\n",
    "plt.ylabel('latitude')"
   ]
  },
  {
   "cell_type": "markdown",
   "metadata": {},
   "source": [
    "#### Visualize the pageRank of airports according to the coordinates of airports between N20 ~ 54 latitude and W65 ~ 130 longitude (e.g. ignore the airports in Alaska due to the distortion of projection at high latitude)"
   ]
  },
  {
   "cell_type": "code",
   "execution_count": 78,
   "metadata": {},
   "outputs": [
    {
     "data": {
      "text/plain": [
       "(20, 54)"
      ]
     },
     "execution_count": 78,
     "metadata": {},
     "output_type": "execute_result"
    },
    {
     "data": {
      "image/png": "[encoded data removed]",
      "text/plain": [
       "<Figure size 432x288 with 1 Axes>"
      ]
     },
     "metadata": {
      "needs_background": "light"
     },
     "output_type": "display_data"
    }
   ],
   "source": [
    "lat = df_airports['LATITUDE'].to_numpy()\n",
    "lon = df_airports['LONGITUDE'].to_numpy()\n",
    "size = []\n",
    "for i in range(num):\n",
    "    size.append((ori[airports[i]] / len(final))**0.7 * 400)\n",
    "\n",
    "plt.scatter(lon, lat, s = size, c = size)\n",
    "plt.xlabel('longitude')\n",
    "plt.ylabel('latitude')\n",
    "plt.xlim([-130, -65])\n",
    "plt.ylim([20, 54])"
   ]
  },
  {
   "cell_type": "markdown",
   "metadata": {},
   "source": [
    "#### short head and long tail"
   ]
  },
  {
   "cell_type": "code",
   "execution_count": 104,
   "metadata": {},
   "outputs": [
    {
     "data": {
      "text/plain": [
       "Text(0, 0.5, 'PageRank')"
      ]
     },
     "execution_count": 104,
     "metadata": {},
     "output_type": "execute_result"
    },
    {
     "data": {
      "image/png": "[encoded data removed]",
      "text/plain": [
       "<Figure size 432x288 with 1 Axes>"
      ]
     },
     "metadata": {
      "needs_background": "light"
     },
     "output_type": "display_data"
    }
   ],
   "source": [
    "r_sorted_d = sorted(r_sorted, reverse=True)\n",
    "x = np.linspace(1, num + 1, num)\n",
    "plt.plot(x, r_sorted_d)\n",
    "plt.xlabel('rank of RageRank')\n",
    "plt.ylabel('PageRank')"
   ]
  },
  {
   "cell_type": "markdown",
   "metadata": {},
   "source": [
    "#### the box plot is not very beautiful, and difficult to see the Q1, mean, Q3 of pagerank data"
   ]
  },
  {
   "cell_type": "code",
   "execution_count": 113,
   "metadata": {},
   "outputs": [
    {
     "name": "stdout",
     "output_type": "stream",
     "text": [
      "PR mean: 0.003105590062111808\n",
      "PR min:  6.556955216419235e-06 Airport: ATL\n",
      "PR max:  0.06505389719364019 Airport: ITH\n"
     ]
    },
    {
     "data": {
      "image/png": "[encoded data removed]",
      "text/plain": [
       "<Figure size 432x288 with 1 Axes>"
      ]
     },
     "metadata": {
      "needs_background": "light"
     },
     "output_type": "display_data"
    }
   ],
   "source": [
    "plt.boxplot(r)\n",
    "plt.title('boxplot of the Page Rank')\n",
    "print('PR mean:', r.mean())\n",
    "print('PR min: ', r.min(), 'Airport: ATL')\n",
    "print('PR max: ', r.max(), 'Airport: ITH')"
   ]
  },
  {
   "cell_type": "markdown",
   "metadata": {},
   "source": [
    "#### So we take the log of PageRank, the result is relatively linear"
   ]
  },
  {
   "cell_type": "code",
   "execution_count": 114,
   "metadata": {},
   "outputs": [
    {
     "data": {
      "text/plain": [
       "Text(0, 0.5, 'log (PageRank)')"
      ]
     },
     "execution_count": 114,
     "metadata": {},
     "output_type": "execute_result"
    },
    {
     "data": {
      "image/png": "[encoded data removed]",
      "text/plain": [
       "<Figure size 432x288 with 1 Axes>"
      ]
     },
     "metadata": {
      "needs_background": "light"
     },
     "output_type": "display_data"
    }
   ],
   "source": [
    "plt.plot(x, np.log(r_sorted_d))\n",
    "plt.xlabel('rank of RageRank')\n",
    "plt.ylabel('log (PageRank)')"
   ]
  },
  {
   "cell_type": "code",
   "execution_count": 86,
   "metadata": {},
   "outputs": [
    {
     "data": {
      "text/plain": [
       "{'whiskers': [<matplotlib.lines.Line2D at 0x14cca0890>,\n",
       "  <matplotlib.lines.Line2D at 0x14cca0e50>],\n",
       " 'caps': [<matplotlib.lines.Line2D at 0x14cc95bd0>,\n",
       "  <matplotlib.lines.Line2D at 0x14cca8890>],\n",
       " 'boxes': [<matplotlib.lines.Line2D at 0x14cc95b90>],\n",
       " 'medians': [<matplotlib.lines.Line2D at 0x14cca8dd0>],\n",
       " 'fliers': [<matplotlib.lines.Line2D at 0x14cca0ed0>],\n",
       " 'means': []}"
      ]
     },
     "execution_count": 86,
     "metadata": {},
     "output_type": "execute_result"
    },
    {
     "data": {
      "image/png": "[encoded data removed]",
      "text/plain": [
       "<Figure size 432x288 with 1 Axes>"
      ]
     },
     "metadata": {
      "needs_background": "light"
     },
     "output_type": "display_data"
    }
   ],
   "source": [
    "plt.boxplot(np.log(r))"
   ]
  },
  {
   "cell_type": "markdown",
   "metadata": {},
   "source": [
    "From the Page Rank we have a rank of importance of all US airports base on the flight information of all fight inside the United States form 2015-1-1 to 2015-12-31. This is a rank base on near 6 million lines of fight data use the matrix multiplication page rank method taught on the advanced data science class. I would say this is a very reliable rank that could be referenced by future researchers. Also this rank would provide a guide to many other industries. For example, when the United States decided to build new airports, train stations or highways, this rank would provide the names and locations that needed the most. For an improper but very interesting assumption which is not going to happen, if Kim Jong-un want to nuke the United States, this result would tell him which city is most worthy. Lol.\n",
    "\n",
    "Also we visualized the page rank results. We differentiate the importance of airports by different colors and sizes and locate them using the actual latitude and longitude information of airports. We nicely but not surprisingly find that the dots outlined a United States map. This would give people without professional data science knowledge a quick understanding of our result. This visualization could also be improvised and put onto our poster.\n",
    "\n",
    "By far we could answer the question from the project proposal: What are the most import airports inside the United States? The rank is: ATL, ORD, DFW, DEN, LAX, SFO (From most important to the 6th important)\n",
    "\n",
    "There are a lot columns of data are not used yet, for example the delay of each individual fights, times each fights take, fight companies, delay or cancelation reason, etc. We would further explore these data and apply more data science methods. One analysis method come in mind is K-means. By doing K-means we could find the most critical dependent to delays."
   ]
  },
  {
   "cell_type": "code",
   "execution_count": null,
   "metadata": {},
   "outputs": [],
   "source": []
  }
 ],
 "metadata": {
  "kernelspec": {
   "display_name": "Python 3",
   "language": "python",
   "name": "python3"
  },
  "language_info": {
   "codemirror_mode": {
    "name": "ipython",
    "version": 3
   },
   "file_extension": ".py",
   "mimetype": "text/x-python",
   "name": "python",
   "nbconvert_exporter": "python",
   "pygments_lexer": "ipython3",
   "version": "3.7.1"
  }
 },
 "nbformat": 4,
 "nbformat_minor": 4
}
